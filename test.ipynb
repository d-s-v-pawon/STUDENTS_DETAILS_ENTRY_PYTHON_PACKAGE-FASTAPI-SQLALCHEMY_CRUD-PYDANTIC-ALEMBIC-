{
 "cells": [
  {
   "cell_type": "code",
   "execution_count": 1,
   "metadata": {},
   "outputs": [],
   "source": [
    "from STUDENTS_PACKAGE.students import STUDENTS"
   ]
  },
  {
   "cell_type": "code",
   "execution_count": 3,
   "metadata": {},
   "outputs": [
    {
     "name": "stdout",
     "output_type": "stream",
     "text": [
      "THE STUDENT PAVAN GENERAL DETAILS ENTRY IS COMPLETED\n",
      "Student added successfully\n"
     ]
    }
   ],
   "source": [
    "stu1 = STUDENTS(\"PAVAN\",\"male\",21,\"padmvani\",9,\"a\",77,7583853845,99.9)"
   ]
  }
 ],
 "metadata": {
  "kernelspec": {
   "display_name": "ALCHEMY_FASTAPI_ENV",
   "language": "python",
   "name": "python3"
  },
  "language_info": {
   "codemirror_mode": {
    "name": "ipython",
    "version": 3
   },
   "file_extension": ".py",
   "mimetype": "text/x-python",
   "name": "python",
   "nbconvert_exporter": "python",
   "pygments_lexer": "ipython3",
   "version": "3.10.11"
  }
 },
 "nbformat": 4,
 "nbformat_minor": 2
}
